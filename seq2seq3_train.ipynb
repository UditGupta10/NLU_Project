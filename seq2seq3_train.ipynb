{
 "cells": [
  {
   "cell_type": "code",
   "execution_count": 1,
   "metadata": {},
   "outputs": [
    {
     "name": "stderr",
     "output_type": "stream",
     "text": [
      "/home1/e1-246-17/miniconda3/lib/python3.6/site-packages/h5py/__init__.py:36: FutureWarning: Conversion of the second argument of issubdtype from `float` to `np.floating` is deprecated. In future, it will be treated as `np.float64 == np.dtype(float).type`.\n",
      "  from ._conv import register_converters as _register_converters\n",
      "Using TensorFlow backend.\n"
     ]
    }
   ],
   "source": [
    "import pandas as pd\n",
    "from sklearn.model_selection import train_test_split\n",
    "from keras_text_summarization.library.utility.plot_utils import plot_and_save_history\n",
    "from keras_text_summarization.library.seq2seq import Seq2SeqGloVeSummarizerV2\n",
    "from keras_text_summarization.library.applications.fake_news_loader import fit_text\n",
    "import numpy as np\n",
    "import re\n",
    "from nltk.corpus import stopwords\n",
    "import pickle"
   ]
  },
  {
   "cell_type": "code",
   "execution_count": 2,
   "metadata": {},
   "outputs": [],
   "source": [
    "LOAD_EXISTING_WEIGHTS = False"
   ]
  },
  {
   "cell_type": "code",
   "execution_count": 3,
   "metadata": {},
   "outputs": [],
   "source": [
    "np.random.seed(42)\n",
    "data_dir_path = './data'\n",
    "very_large_data_dir_path = './very_large_data'\n",
    "report_dir_path = './reports'\n",
    "model_dir_path = './models/seq2seq3'"
   ]
  },
  {
   "cell_type": "markdown",
   "metadata": {},
   "source": [
    "reviews = pd.read_csv(data_dir_path + \"/Reviews.csv\", encoding='utf-8')[:10000]\n",
    "reviews = reviews.dropna()\n",
    "reviews = reviews.drop(['Id','ProductId','UserId','ProfileName','HelpfulnessNumerator','HelpfulnessDenominator',\n",
    "                        'Score','Time'], 1)\n",
    "reviews = reviews.reset_index(drop=True)\n",
    "# df.drop_duplicates(subset=[\"ctext\"],inplace=True)\n",
    "# df.dropna(inplace=True)\n",
    "# df.reset_index(drop=True,inplace=True)"
   ]
  },
  {
   "cell_type": "markdown",
   "metadata": {},
   "source": [
    "# A list of contractions from http://stackoverflow.com/questions/19790188/expanding-english-language-contractions-in-python\n",
    "contractions = { \n",
    "\"ain't\": \"am not\",\n",
    "\"aren't\": \"are not\",\n",
    "\"can't\": \"cannot\",\n",
    "\"can't've\": \"cannot have\",\n",
    "\"'cause\": \"because\",\n",
    "\"could've\": \"could have\",\n",
    "\"couldn't\": \"could not\",\n",
    "\"couldn't've\": \"could not have\",\n",
    "\"didn't\": \"did not\",\n",
    "\"doesn't\": \"does not\",\n",
    "\"don't\": \"do not\",\n",
    "\"hadn't\": \"had not\",\n",
    "\"hadn't've\": \"had not have\",\n",
    "\"hasn't\": \"has not\",\n",
    "\"haven't\": \"have not\",\n",
    "\"he'd\": \"he would\",\n",
    "\"he'd've\": \"he would have\",\n",
    "\"he'll\": \"he will\",\n",
    "\"he's\": \"he is\",\n",
    "\"how'd\": \"how did\",\n",
    "\"how'll\": \"how will\",\n",
    "\"how's\": \"how is\",\n",
    "\"i'd\": \"i would\",\n",
    "\"i'll\": \"i will\",\n",
    "\"i'm\": \"i am\",\n",
    "\"i've\": \"i have\",\n",
    "\"isn't\": \"is not\",\n",
    "\"it'd\": \"it would\",\n",
    "\"it'll\": \"it will\",\n",
    "\"it's\": \"it is\",\n",
    "\"let's\": \"let us\",\n",
    "\"ma'am\": \"madam\",\n",
    "\"mayn't\": \"may not\",\n",
    "\"might've\": \"might have\",\n",
    "\"mightn't\": \"might not\",\n",
    "\"must've\": \"must have\",\n",
    "\"mustn't\": \"must not\",\n",
    "\"needn't\": \"need not\",\n",
    "\"oughtn't\": \"ought not\",\n",
    "\"shan't\": \"shall not\",\n",
    "\"sha'n't\": \"shall not\",\n",
    "\"she'd\": \"she would\",\n",
    "\"she'll\": \"she will\",\n",
    "\"she's\": \"she is\",\n",
    "\"should've\": \"should have\",\n",
    "\"shouldn't\": \"should not\",\n",
    "\"that'd\": \"that would\",\n",
    "\"that's\": \"that is\",\n",
    "\"there'd\": \"there had\",\n",
    "\"there's\": \"there is\",\n",
    "\"they'd\": \"they would\",\n",
    "\"they'll\": \"they will\",\n",
    "\"they're\": \"they are\",\n",
    "\"they've\": \"they have\",\n",
    "\"wasn't\": \"was not\",\n",
    "\"we'd\": \"we would\",\n",
    "\"we'll\": \"we will\",\n",
    "\"we're\": \"we are\",\n",
    "\"we've\": \"we have\",\n",
    "\"weren't\": \"were not\",\n",
    "\"what'll\": \"what will\",\n",
    "\"what're\": \"what are\",\n",
    "\"what's\": \"what is\",\n",
    "\"what've\": \"what have\",\n",
    "\"where'd\": \"where did\",\n",
    "\"where's\": \"where is\",\n",
    "\"who'll\": \"who will\",\n",
    "\"who's\": \"who is\",\n",
    "\"won't\": \"will not\",\n",
    "\"wouldn't\": \"would not\",\n",
    "\"you'd\": \"you would\",\n",
    "\"you'll\": \"you will\",\n",
    "\"you're\": \"you are\"\n",
    "}"
   ]
  },
  {
   "cell_type": "markdown",
   "metadata": {},
   "source": [
    "def clean_text(text, remove_stopwords = True):\n",
    "    '''Remove unwanted characters, stopwords, and format the text to create fewer nulls word embeddings'''\n",
    "    \n",
    "    # Convert words to lower case\n",
    "    text = text.lower()\n",
    "    \n",
    "    # Replace contractions with their longer forms \n",
    "    if True:\n",
    "        text = text.split()\n",
    "        new_text = []\n",
    "        for word in text:\n",
    "            if word in contractions:\n",
    "                new_text.append(contractions[word])\n",
    "            else:\n",
    "                new_text.append(word)\n",
    "        text = \" \".join(new_text)\n",
    "    \n",
    "    # Format words and remove unwanted characters\n",
    "    text = re.sub(r'https?:\\/\\/.*[\\r\\n]*', '', text, flags=re.MULTILINE)\n",
    "    text = re.sub(r'\\<a href', ' ', text)\n",
    "    text = re.sub(r'&amp;', '', text) \n",
    "    text = re.sub(r'[_\"\\-;%()|+&=*%.,!?:#$@\\[\\]/]', ' ', text)\n",
    "    text = re.sub(r'<br />', ' ', text)\n",
    "    text = re.sub(r'<br', ' ', text)\n",
    "    text = re.sub(r'\\'', ' ', text)\n",
    "    text = re.sub(r'>', ' ', text)\n",
    "    # Optionally, remove stop words\n",
    "    if remove_stopwords:\n",
    "        text = text.split()\n",
    "        stops = set(stopwords.words(\"english\"))\n",
    "        text = [w for w in text if not w in stops]\n",
    "        text = \" \".join(text)\n",
    "\n",
    "    return text"
   ]
  },
  {
   "cell_type": "markdown",
   "metadata": {},
   "source": [
    "clean_summaries = []\n",
    "for summary in reviews.Summary:\n",
    "    clean_summaries.append(clean_text(summary, remove_stopwords=False))\n",
    "print(\"Summaries are complete.\")\n",
    "\n",
    "clean_texts = []\n",
    "for text in reviews.Text:\n",
    "    clean_texts.append(clean_text(text))\n",
    "print(\"Texts are complete.\")"
   ]
  },
  {
   "cell_type": "code",
   "execution_count": 4,
   "metadata": {},
   "outputs": [],
   "source": [
    "with open(\"amazon_texts_less\", \"rb\") as fp:\n",
    "    cl_txt = pickle.load(fp)\n",
    "with open(\"amazon_summaries_less\", \"rb\") as fp2:\n",
    "    cl_summ = pickle.load(fp2)"
   ]
  },
  {
   "cell_type": "code",
   "execution_count": 5,
   "metadata": {},
   "outputs": [],
   "source": [
    "Y = cl_summ  #df.headlines\n",
    "X = cl_txt    #df.text\n",
    "config = fit_text(X,Y)"
   ]
  },
  {
   "cell_type": "code",
   "execution_count": null,
   "metadata": {},
   "outputs": [],
   "source": [
    "config['input_word2idx']"
   ]
  },
  {
   "cell_type": "code",
   "execution_count": 6,
   "metadata": {},
   "outputs": [],
   "source": [
    "summarizer = Seq2SeqGloVeSummarizerV2(config)\n",
    "summarizer.load_glove(very_large_data_dir_path)"
   ]
  },
  {
   "cell_type": "code",
   "execution_count": 7,
   "metadata": {},
   "outputs": [],
   "source": [
    "if LOAD_EXISTING_WEIGHTS:\n",
    "    summarizer.load_weights(weight_file_path=Seq2SeqGloVeSummarizerV2.get_weight_file_path(model_dir_path=model_dir_path))"
   ]
  },
  {
   "cell_type": "code",
   "execution_count": 8,
   "metadata": {},
   "outputs": [
    {
     "name": "stdout",
     "output_type": "stream",
     "text": [
      "demo size:  16803\n",
      "testing size:  4201\n"
     ]
    }
   ],
   "source": [
    "Xtrain, Xtest, Ytrain, Ytest = train_test_split(X, Y, test_size=0.2, random_state=42)\n",
    "print('demo size: ', len(Xtrain))\n",
    "print('testing size: ', len(Xtest))"
   ]
  },
  {
   "cell_type": "code",
   "execution_count": 10,
   "metadata": {},
   "outputs": [
    {
     "name": "stderr",
     "output_type": "stream",
     "text": [
      "/home1/e1-246-17/miniconda3/lib/python3.6/site-packages/keras/engine/topology.py:2368: UserWarning: Layer decoder_lstm was passed non-serializable keyword arguments: {'initial_state': [<tf.Tensor 'encoder_lstm/while/Exit_2:0' shape=(?, 100) dtype=float32>, <tf.Tensor 'encoder_lstm/while/Exit_3:0' shape=(?, 100) dtype=float32>]}. They will not be included in the serialized model (and thus will be missing at deserialization time).\n",
      "  str(node.arguments) + '. They will not be included '\n"
     ]
    },
    {
     "name": "stdout",
     "output_type": "stream",
     "text": [
      "(16803,)\n",
      "(4201,)\n",
      "(16803, 30, 100)\n",
      "(4201, 30, 100)\n",
      "Epoch 1/100\n",
      "131/131 [==============================] - 17s 126ms/step - loss: 3.6934 - acc: 0.0217 - val_loss: 3.5988 - val_acc: 0.0307\n",
      "Epoch 2/100\n",
      "131/131 [==============================] - 15s 114ms/step - loss: 3.5566 - acc: 0.0289 - val_loss: 3.5413 - val_acc: 0.0354\n",
      "Epoch 3/100\n",
      "131/131 [==============================] - 16s 120ms/step - loss: 3.4987 - acc: 0.0350 - val_loss: 3.4961 - val_acc: 0.0364\n",
      "Epoch 4/100\n",
      "131/131 [==============================] - 15s 118ms/step - loss: 3.4531 - acc: 0.0355 - val_loss: 3.4636 - val_acc: 0.0365\n",
      "Epoch 5/100\n",
      "131/131 [==============================] - 16s 125ms/step - loss: 3.4173 - acc: 0.0364 - val_loss: 3.4471 - val_acc: 0.0367\n",
      "Epoch 6/100\n",
      "131/131 [==============================] - 16s 123ms/step - loss: 3.3802 - acc: 0.0392 - val_loss: 3.4096 - val_acc: 0.0397\n",
      "Epoch 7/100\n",
      "131/131 [==============================] - 16s 126ms/step - loss: 3.3341 - acc: 0.0421 - val_loss: 3.3747 - val_acc: 0.0421\n",
      "Epoch 8/100\n",
      "131/131 [==============================] - 16s 124ms/step - loss: 3.2883 - acc: 0.0446 - val_loss: 3.3269 - val_acc: 0.0457\n",
      "Epoch 9/100\n",
      "131/131 [==============================] - 16s 123ms/step - loss: 3.2423 - acc: 0.0465 - val_loss: 3.3000 - val_acc: 0.0465\n",
      "Epoch 10/100\n",
      "131/131 [==============================] - 16s 120ms/step - loss: 3.2003 - acc: 0.0479 - val_loss: 3.2679 - val_acc: 0.0481\n",
      "Epoch 11/100\n",
      "131/131 [==============================] - 16s 121ms/step - loss: 3.1644 - acc: 0.0499 - val_loss: 3.2458 - val_acc: 0.0489\n",
      "Epoch 12/100\n",
      "131/131 [==============================] - 16s 124ms/step - loss: 3.1312 - acc: 0.0518 - val_loss: 3.2300 - val_acc: 0.0498\n",
      "Epoch 13/100\n",
      "131/131 [==============================] - 17s 127ms/step - loss: 3.0964 - acc: 0.0537 - val_loss: 3.2049 - val_acc: 0.0517\n",
      "Epoch 14/100\n",
      "131/131 [==============================] - 17s 132ms/step - loss: 3.0633 - acc: 0.0567 - val_loss: 3.1900 - val_acc: 0.0538\n",
      "Epoch 15/100\n",
      "131/131 [==============================] - 18s 134ms/step - loss: 3.0307 - acc: 0.0585 - val_loss: 3.1710 - val_acc: 0.0550\n",
      "Epoch 16/100\n",
      "131/131 [==============================] - 17s 129ms/step - loss: 2.9998 - acc: 0.0611 - val_loss: 3.1580 - val_acc: 0.0580\n",
      "Epoch 17/100\n",
      "131/131 [==============================] - 17s 133ms/step - loss: 2.9685 - acc: 0.0639 - val_loss: 3.1394 - val_acc: 0.0603\n",
      "Epoch 18/100\n",
      "131/131 [==============================] - 18s 136ms/step - loss: 2.9386 - acc: 0.0670 - val_loss: 3.1331 - val_acc: 0.0627\n",
      "Epoch 19/100\n",
      "131/131 [==============================] - 17s 133ms/step - loss: 2.9074 - acc: 0.0699 - val_loss: 3.1078 - val_acc: 0.0643\n",
      "Epoch 20/100\n",
      "131/131 [==============================] - 17s 127ms/step - loss: 2.8779 - acc: 0.0741 - val_loss: 3.0872 - val_acc: 0.0677\n",
      "Epoch 21/100\n",
      "131/131 [==============================] - 16s 124ms/step - loss: 2.8476 - acc: 0.0778 - val_loss: 3.0709 - val_acc: 0.0704\n",
      "Epoch 22/100\n",
      "131/131 [==============================] - 16s 122ms/step - loss: 2.8192 - acc: 0.0818 - val_loss: 3.0669 - val_acc: 0.0733\n",
      "Epoch 23/100\n",
      "131/131 [==============================] - 16s 123ms/step - loss: 2.7890 - acc: 0.0853 - val_loss: 3.0537 - val_acc: 0.0745\n",
      "Epoch 24/100\n",
      "131/131 [==============================] - 15s 112ms/step - loss: 2.7599 - acc: 0.0888 - val_loss: 3.0351 - val_acc: 0.0777\n",
      "Epoch 25/100\n",
      "131/131 [==============================] - 17s 126ms/step - loss: 2.7319 - acc: 0.0923 - val_loss: 3.0240 - val_acc: 0.0787\n",
      "Epoch 26/100\n",
      "131/131 [==============================] - 17s 133ms/step - loss: 2.7043 - acc: 0.0961 - val_loss: 3.0120 - val_acc: 0.0823\n",
      "Epoch 27/100\n",
      "131/131 [==============================] - 15s 118ms/step - loss: 2.6761 - acc: 0.0992 - val_loss: 3.0075 - val_acc: 0.0835\n",
      "Epoch 28/100\n",
      "131/131 [==============================] - 16s 125ms/step - loss: 2.6496 - acc: 0.1023 - val_loss: 2.9972 - val_acc: 0.0853\n",
      "Epoch 29/100\n",
      "131/131 [==============================] - 15s 114ms/step - loss: 2.6235 - acc: 0.1056 - val_loss: 2.9766 - val_acc: 0.0896\n",
      "Epoch 30/100\n",
      "131/131 [==============================] - 16s 120ms/step - loss: 2.5976 - acc: 0.1091 - val_loss: 2.9615 - val_acc: 0.0922\n",
      "Epoch 31/100\n",
      "131/131 [==============================] - 17s 126ms/step - loss: 2.5717 - acc: 0.1131 - val_loss: 2.9600 - val_acc: 0.0939\n",
      "Epoch 32/100\n",
      "131/131 [==============================] - 16s 125ms/step - loss: 2.5483 - acc: 0.1166 - val_loss: 2.9589 - val_acc: 0.0952\n",
      "Epoch 33/100\n",
      "131/131 [==============================] - 17s 126ms/step - loss: 2.5245 - acc: 0.1207 - val_loss: 2.9343 - val_acc: 0.1002\n",
      "Epoch 34/100\n",
      "131/131 [==============================] - 16s 123ms/step - loss: 2.5011 - acc: 0.1240 - val_loss: 2.9342 - val_acc: 0.0992\n",
      "Epoch 35/100\n",
      "131/131 [==============================] - 17s 129ms/step - loss: 2.4779 - acc: 0.1275 - val_loss: 2.9192 - val_acc: 0.1034\n",
      "Epoch 36/100\n",
      "131/131 [==============================] - 18s 134ms/step - loss: 2.4563 - acc: 0.1308 - val_loss: 2.9207 - val_acc: 0.1022\n",
      "Epoch 37/100\n",
      "131/131 [==============================] - 18s 135ms/step - loss: 2.4341 - acc: 0.1349 - val_loss: 2.9041 - val_acc: 0.1086\n",
      "Epoch 38/100\n",
      "131/131 [==============================] - 16s 122ms/step - loss: 2.4122 - acc: 0.1378 - val_loss: 2.9130 - val_acc: 0.1075\n",
      "Epoch 39/100\n",
      "131/131 [==============================] - 16s 125ms/step - loss: 2.3928 - acc: 0.1409 - val_loss: 2.9080 - val_acc: 0.1107\n",
      "Epoch 40/100\n",
      "131/131 [==============================] - 17s 131ms/step - loss: 2.3714 - acc: 0.1445 - val_loss: 2.8946 - val_acc: 0.1115\n",
      "Epoch 41/100\n",
      "131/131 [==============================] - 18s 135ms/step - loss: 2.3516 - acc: 0.1474 - val_loss: 2.9021 - val_acc: 0.1109\n",
      "Epoch 42/100\n",
      "131/131 [==============================] - 17s 131ms/step - loss: 2.3311 - acc: 0.1509 - val_loss: 2.8798 - val_acc: 0.1170\n",
      "Epoch 43/100\n",
      "131/131 [==============================] - 17s 130ms/step - loss: 2.3123 - acc: 0.1547 - val_loss: 2.8916 - val_acc: 0.1169\n",
      "Epoch 44/100\n",
      "131/131 [==============================] - 17s 126ms/step - loss: 2.2959 - acc: 0.1572 - val_loss: 2.8842 - val_acc: 0.1184\n",
      "Epoch 45/100\n",
      "131/131 [==============================] - 15s 118ms/step - loss: 2.2758 - acc: 0.1607 - val_loss: 2.8814 - val_acc: 0.1216\n",
      "Epoch 46/100\n",
      "131/131 [==============================] - 16s 121ms/step - loss: 2.2575 - acc: 0.1630 - val_loss: 2.8811 - val_acc: 0.1203\n",
      "Epoch 47/100\n",
      "131/131 [==============================] - 15s 116ms/step - loss: 2.2393 - acc: 0.1661 - val_loss: 2.8731 - val_acc: 0.1227\n",
      "Epoch 48/100\n",
      "131/131 [==============================] - 15s 118ms/step - loss: 2.2250 - acc: 0.1688 - val_loss: 2.8673 - val_acc: 0.1244\n",
      "Epoch 49/100\n",
      "131/131 [==============================] - 16s 119ms/step - loss: 2.2057 - acc: 0.1714 - val_loss: 2.8534 - val_acc: 0.1304\n",
      "Epoch 50/100\n",
      "131/131 [==============================] - 15s 116ms/step - loss: 2.1891 - acc: 0.1740 - val_loss: 2.8670 - val_acc: 0.1289\n",
      "Epoch 51/100\n",
      "131/131 [==============================] - 16s 121ms/step - loss: 2.1740 - acc: 0.1763 - val_loss: 2.8452 - val_acc: 0.1313\n",
      "Epoch 52/100\n",
      "131/131 [==============================] - 17s 128ms/step - loss: 2.1583 - acc: 0.1788 - val_loss: 2.8479 - val_acc: 0.1331\n",
      "Epoch 53/100\n",
      "131/131 [==============================] - 15s 118ms/step - loss: 2.1419 - acc: 0.1812 - val_loss: 2.8448 - val_acc: 0.1328\n",
      "Epoch 54/100\n",
      "131/131 [==============================] - 14s 107ms/step - loss: 2.1282 - acc: 0.1833 - val_loss: 2.8330 - val_acc: 0.1374\n",
      "Epoch 55/100\n",
      "131/131 [==============================] - 15s 114ms/step - loss: 2.1119 - acc: 0.1862 - val_loss: 2.8466 - val_acc: 0.1367\n",
      "Epoch 56/100\n",
      "131/131 [==============================] - 15s 118ms/step - loss: 2.0975 - acc: 0.1882 - val_loss: 2.8368 - val_acc: 0.1364\n",
      "Epoch 57/100\n",
      "131/131 [==============================] - 16s 124ms/step - loss: 2.0823 - acc: 0.1913 - val_loss: 2.8350 - val_acc: 0.1386\n",
      "Epoch 58/100\n",
      "131/131 [==============================] - 15s 115ms/step - loss: 2.0685 - acc: 0.1932 - val_loss: 2.8307 - val_acc: 0.1401\n",
      "Epoch 59/100\n",
      "131/131 [==============================] - 16s 121ms/step - loss: 2.0553 - acc: 0.1945 - val_loss: 2.8368 - val_acc: 0.1402\n",
      "Epoch 60/100\n"
     ]
    },
    {
     "name": "stdout",
     "output_type": "stream",
     "text": [
      "131/131 [==============================] - 15s 115ms/step - loss: 2.0418 - acc: 0.1979 - val_loss: 2.8158 - val_acc: 0.1437\n",
      "Epoch 61/100\n",
      "131/131 [==============================] - 15s 114ms/step - loss: 2.0272 - acc: 0.1993 - val_loss: 2.8186 - val_acc: 0.1429\n",
      "Epoch 62/100\n",
      "131/131 [==============================] - 15s 117ms/step - loss: 2.0159 - acc: 0.2011 - val_loss: 2.8304 - val_acc: 0.1450\n",
      "Epoch 63/100\n",
      "131/131 [==============================] - 15s 118ms/step - loss: 2.0019 - acc: 0.2026 - val_loss: 2.8249 - val_acc: 0.1443\n",
      "Epoch 64/100\n",
      "131/131 [==============================] - 15s 115ms/step - loss: 1.9909 - acc: 0.2048 - val_loss: 2.8287 - val_acc: 0.1461\n",
      "Epoch 65/100\n",
      "131/131 [==============================] - 16s 120ms/step - loss: 1.9778 - acc: 0.2071 - val_loss: 2.8183 - val_acc: 0.1505\n",
      "Epoch 66/100\n",
      "131/131 [==============================] - 16s 122ms/step - loss: 1.9655 - acc: 0.2096 - val_loss: 2.8142 - val_acc: 0.1508\n",
      "Epoch 67/100\n",
      "131/131 [==============================] - 16s 120ms/step - loss: 1.9524 - acc: 0.2114 - val_loss: 2.8290 - val_acc: 0.1497\n",
      "Epoch 68/100\n",
      "131/131 [==============================] - 18s 134ms/step - loss: 1.9412 - acc: 0.2135 - val_loss: 2.8130 - val_acc: 0.1516\n",
      "Epoch 69/100\n",
      "131/131 [==============================] - 16s 122ms/step - loss: 1.9296 - acc: 0.2146 - val_loss: 2.8149 - val_acc: 0.1539\n",
      "Epoch 70/100\n",
      "131/131 [==============================] - 17s 132ms/step - loss: 1.9171 - acc: 0.2165 - val_loss: 2.8062 - val_acc: 0.1547\n",
      "Epoch 71/100\n",
      "131/131 [==============================] - 15s 117ms/step - loss: 1.9069 - acc: 0.2180 - val_loss: 2.8265 - val_acc: 0.1550\n",
      "Epoch 72/100\n",
      "131/131 [==============================] - 17s 126ms/step - loss: 1.8944 - acc: 0.2206 - val_loss: 2.8291 - val_acc: 0.1542\n",
      "Epoch 73/100\n",
      "131/131 [==============================] - 17s 126ms/step - loss: 1.8829 - acc: 0.2216 - val_loss: 2.8132 - val_acc: 0.1574\n",
      "Epoch 74/100\n",
      "131/131 [==============================] - 15s 117ms/step - loss: 1.8738 - acc: 0.2230 - val_loss: 2.8112 - val_acc: 0.1575\n",
      "Epoch 75/100\n",
      "131/131 [==============================] - 16s 123ms/step - loss: 1.8655 - acc: 0.2244 - val_loss: 2.8162 - val_acc: 0.1572\n",
      "Epoch 76/100\n",
      "131/131 [==============================] - 16s 124ms/step - loss: 1.8554 - acc: 0.2260 - val_loss: 2.8184 - val_acc: 0.1601\n",
      "Epoch 77/100\n",
      "131/131 [==============================] - 16s 124ms/step - loss: 1.8435 - acc: 0.2273 - val_loss: 2.8045 - val_acc: 0.1594\n",
      "Epoch 78/100\n",
      "131/131 [==============================] - 15s 117ms/step - loss: 1.8348 - acc: 0.2296 - val_loss: 2.8247 - val_acc: 0.1580\n",
      "Epoch 79/100\n",
      "131/131 [==============================] - 19s 144ms/step - loss: 1.8219 - acc: 0.2314 - val_loss: 2.8209 - val_acc: 0.1607\n",
      "Epoch 80/100\n",
      "131/131 [==============================] - 16s 121ms/step - loss: 1.8137 - acc: 0.2315 - val_loss: 2.8114 - val_acc: 0.1621\n",
      "Epoch 81/100\n",
      "131/131 [==============================] - 17s 130ms/step - loss: 1.8051 - acc: 0.2336 - val_loss: 2.8206 - val_acc: 0.1619\n",
      "Epoch 82/100\n",
      "131/131 [==============================] - 17s 130ms/step - loss: 1.7974 - acc: 0.2353 - val_loss: 2.8240 - val_acc: 0.1647\n",
      "Epoch 83/100\n",
      "131/131 [==============================] - 16s 122ms/step - loss: 1.7846 - acc: 0.2373 - val_loss: 2.8232 - val_acc: 0.1617\n",
      "Epoch 84/100\n",
      "131/131 [==============================] - 17s 127ms/step - loss: 1.7766 - acc: 0.2379 - val_loss: 2.8180 - val_acc: 0.1618\n",
      "Epoch 85/100\n",
      "131/131 [==============================] - 16s 126ms/step - loss: 1.7691 - acc: 0.2391 - val_loss: 2.8028 - val_acc: 0.1665\n",
      "Epoch 86/100\n",
      "131/131 [==============================] - 17s 126ms/step - loss: 1.7573 - acc: 0.2413 - val_loss: 2.8422 - val_acc: 0.1628\n",
      "Epoch 87/100\n",
      "131/131 [==============================] - 17s 126ms/step - loss: 1.7496 - acc: 0.2417 - val_loss: 2.8174 - val_acc: 0.1676\n",
      "Epoch 88/100\n",
      "131/131 [==============================] - 16s 123ms/step - loss: 1.7425 - acc: 0.2437 - val_loss: 2.8218 - val_acc: 0.1659\n",
      "Epoch 89/100\n",
      "131/131 [==============================] - 17s 128ms/step - loss: 1.7338 - acc: 0.2446 - val_loss: 2.8174 - val_acc: 0.1685\n",
      "Epoch 90/100\n",
      "131/131 [==============================] - 18s 137ms/step - loss: 1.7249 - acc: 0.2463 - val_loss: 2.8400 - val_acc: 0.1647\n",
      "Epoch 91/100\n",
      "131/131 [==============================] - 16s 119ms/step - loss: 1.7163 - acc: 0.2468 - val_loss: 2.8257 - val_acc: 0.1670\n",
      "Epoch 92/100\n",
      "131/131 [==============================] - 16s 119ms/step - loss: 1.7092 - acc: 0.2482 - val_loss: 2.8101 - val_acc: 0.1705\n",
      "Epoch 93/100\n",
      "131/131 [==============================] - 18s 135ms/step - loss: 1.7022 - acc: 0.2497 - val_loss: 2.8229 - val_acc: 0.1698\n",
      "Epoch 94/100\n",
      "131/131 [==============================] - 16s 123ms/step - loss: 1.6934 - acc: 0.2504 - val_loss: 2.8123 - val_acc: 0.1712\n",
      "Epoch 95/100\n",
      "131/131 [==============================] - 16s 124ms/step - loss: 1.6875 - acc: 0.2519 - val_loss: 2.8307 - val_acc: 0.1718\n",
      "Epoch 00095: early stopping\n"
     ]
    }
   ],
   "source": [
    "history = summarizer.fit(Xtrain, Ytrain, Xtest, Ytest, epochs=100, batch_size=128, model_dir_path=model_dir_path)"
   ]
  },
  {
   "cell_type": "code",
   "execution_count": 11,
   "metadata": {},
   "outputs": [
    {
     "data": {
      "image/png": "[encoded data removed]",
      "text/plain": [
       "<Figure size 432x288 with 1 Axes>"
      ]
     },
     "metadata": {},
     "output_type": "display_data"
    }
   ],
   "source": [
    "import matplotlib.pyplot as plt\n",
    "# summarize history for accuracy\n",
    "plt.plot(history.history['acc'])\n",
    "plt.plot(history.history['val_acc'])\n",
    "plt.title('model accuracy')\n",
    "plt.ylabel('accuracy')\n",
    "plt.xlabel('epoch')\n",
    "plt.legend(['train', 'test'], loc='upper left')\n",
    "plt.savefig('seq2seq3_acc')"
   ]
  },
  {
   "cell_type": "code",
   "execution_count": 12,
   "metadata": {},
   "outputs": [
    {
     "data": {
      "image/png": "[encoded data removed]",
      "text/plain": [
       "<Figure size 432x288 with 1 Axes>"
      ]
     },
     "metadata": {},
     "output_type": "display_data"
    }
   ],
   "source": [
    "# summarize history for loss\n",
    "plt.plot(history.history['loss'])\n",
    "plt.plot(history.history['val_loss'])\n",
    "plt.title('model loss')\n",
    "plt.ylabel('loss')\n",
    "plt.xlabel('epoch')\n",
    "plt.legend(['train', 'test'], loc='upper left')\n",
    "plt.savefig('seq2seq3_loss')"
   ]
  },
  {
   "cell_type": "code",
   "execution_count": null,
   "metadata": {},
   "outputs": [],
   "source": []
  },
  {
   "cell_type": "code",
   "execution_count": null,
   "metadata": {},
   "outputs": [],
   "source": [
    "history_plot_file_path = report_dir_path + '/' + Seq2SeqGloVeSummarizerV2.model_name + '-history.png'\n",
    "if LOAD_EXISTING_WEIGHTS:\n",
    "    history_plot_file_path = report_dir_path + '/' + Seq2SeqGloVeSummarizerV2.model_name + '-history-v' + str(summarizer.version) + '.png'\n",
    "plot_and_save_history(history, summarizer.model_name, history_plot_file_path, metrics={'loss', 'acc'})\n"
   ]
  },
  {
   "cell_type": "code",
   "execution_count": null,
   "metadata": {},
   "outputs": [],
   "source": []
  }
 ],
 "metadata": {
  "kernelspec": {
   "display_name": "Python 3",
   "language": "python",
   "name": "python3"
  },
  "language_info": {
   "codemirror_mode": {
    "name": "ipython",
    "version": 3
   },
   "file_extension": ".py",
   "mimetype": "text/x-python",
   "name": "python",
   "nbconvert_exporter": "python",
   "pygments_lexer": "ipython3",
   "version": "3.6.4"
  }
 },
 "nbformat": 4,
 "nbformat_minor": 2
}
