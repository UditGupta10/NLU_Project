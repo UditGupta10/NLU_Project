{
 "cells": [
  {
   "cell_type": "code",
   "execution_count": 1,
   "metadata": {},
   "outputs": [
    {
     "name": "stderr",
     "output_type": "stream",
     "text": [
      "/home1/e1-246-17/miniconda3/lib/python3.6/site-packages/h5py/__init__.py:36: FutureWarning: Conversion of the second argument of issubdtype from `float` to `np.floating` is deprecated. In future, it will be treated as `np.float64 == np.dtype(float).type`.\n",
      "  from ._conv import register_converters as _register_converters\n",
      "Using TensorFlow backend.\n"
     ]
    }
   ],
   "source": [
    "import pandas as pd\n",
    "from sklearn.model_selection import train_test_split\n",
    "from keras_text_summarization.library.utility.plot_utils import plot_and_save_history\n",
    "from keras_text_summarization.library.rnn import OneShotRNN\n",
    "from keras_text_summarization.library.applications.fake_news_loader import fit_text\n",
    "import numpy as np\n",
    "import pickle"
   ]
  },
  {
   "cell_type": "code",
   "execution_count": 2,
   "metadata": {},
   "outputs": [],
   "source": [
    "LOAD_EXISTING_WEIGHTS = False"
   ]
  },
  {
   "cell_type": "code",
   "execution_count": 3,
   "metadata": {},
   "outputs": [],
   "source": [
    "np.random.seed(42)\n",
    "data_dir_path = './data'\n",
    "report_dir_path = './reports'\n",
    "model_dir_path = './models/oneshotrnn'"
   ]
  },
  {
   "cell_type": "markdown",
   "metadata": {},
   "source": [
    "#print('loading csv file ...')\n",
    "df = pd.read_csv(data_dir_path + \"/news_summary.csv\", encoding='latin1')"
   ]
  },
  {
   "cell_type": "code",
   "execution_count": 4,
   "metadata": {},
   "outputs": [],
   "source": [
    "with open(\"amazon_texts_less\", \"rb\") as fp:\n",
    "    cl_txt = pickle.load(fp)\n",
    "with open(\"amazon_summaries_less\", \"rb\") as fp2:\n",
    "    cl_summ = pickle.load(fp2)"
   ]
  },
  {
   "cell_type": "code",
   "execution_count": 5,
   "metadata": {},
   "outputs": [],
   "source": [
    "Y = cl_summ\n",
    "X = cl_txt"
   ]
  },
  {
   "cell_type": "code",
   "execution_count": 6,
   "metadata": {},
   "outputs": [],
   "source": [
    "config = fit_text(X, Y)"
   ]
  },
  {
   "cell_type": "code",
   "execution_count": 7,
   "metadata": {},
   "outputs": [
    {
     "name": "stdout",
     "output_type": "stream",
     "text": [
      "max_input_seq_length 30\n",
      "max_target_seq_length 8\n",
      "num_input_tokens 6002\n",
      "num_target_tokens 2501\n"
     ]
    }
   ],
   "source": [
    "summarizer = OneShotRNN(config)"
   ]
  },
  {
   "cell_type": "code",
   "execution_count": 7,
   "metadata": {},
   "outputs": [],
   "source": [
    "if LOAD_EXISTING_WEIGHTS:\n",
    "    weight_file_path = OneShotRNN.get_weight_file_path(model_dir_path=model_dir_path)\n",
    "    summarizer.load_weights(weight_file_path=weight_file_path)"
   ]
  },
  {
   "cell_type": "code",
   "execution_count": 8,
   "metadata": {},
   "outputs": [],
   "source": [
    "Xtrain, Xtest, Ytrain, Ytest = train_test_split(X, Y, test_size=0.2, random_state=42)"
   ]
  },
  {
   "cell_type": "code",
   "execution_count": 9,
   "metadata": {},
   "outputs": [
    {
     "name": "stdout",
     "output_type": "stream",
     "text": [
      "training size:  16803\n",
      "testing size:  4201\n"
     ]
    }
   ],
   "source": [
    "print('training size: ', len(Xtrain))\n",
    "print('testing size: ', len(Xtest))"
   ]
  },
  {
   "cell_type": "code",
   "execution_count": 10,
   "metadata": {},
   "outputs": [
    {
     "name": "stdout",
     "output_type": "stream",
     "text": [
      "(16803,)\n",
      "(4201,)\n",
      "(16803, 30)\n",
      "(4201, 30)\n",
      "Epoch 1/100\n",
      "131/131 [==============================] - 17s 131ms/step - loss: 4.6211 - acc: 0.1925 - val_loss: 4.1807 - val_acc: 0.2288\n",
      "Epoch 2/100\n",
      "131/131 [==============================] - 15s 113ms/step - loss: 4.0683 - acc: 0.2291 - val_loss: 3.9908 - val_acc: 0.2288\n",
      "Epoch 3/100\n",
      "131/131 [==============================] - 15s 115ms/step - loss: 3.9294 - acc: 0.2291 - val_loss: 3.8900 - val_acc: 0.2288\n",
      "Epoch 4/100\n",
      "131/131 [==============================] - 14s 110ms/step - loss: 3.8484 - acc: 0.2302 - val_loss: 3.8260 - val_acc: 0.2305\n",
      "Epoch 5/100\n",
      "131/131 [==============================] - 14s 106ms/step - loss: 3.7949 - acc: 0.2341 - val_loss: 3.7820 - val_acc: 0.2337\n",
      "Epoch 6/100\n",
      "131/131 [==============================] - 14s 105ms/step - loss: 3.7572 - acc: 0.2373 - val_loss: 3.7498 - val_acc: 0.2337\n",
      "Epoch 7/100\n",
      "131/131 [==============================] - 14s 107ms/step - loss: 3.7285 - acc: 0.2379 - val_loss: 3.7258 - val_acc: 0.2337\n",
      "Epoch 8/100\n",
      "131/131 [==============================] - 14s 108ms/step - loss: 3.7060 - acc: 0.2401 - val_loss: 3.7065 - val_acc: 0.2417\n",
      "Epoch 9/100\n",
      "131/131 [==============================] - 14s 107ms/step - loss: 3.6882 - acc: 0.2420 - val_loss: 3.6915 - val_acc: 0.2456\n",
      "Epoch 10/100\n",
      "131/131 [==============================] - 14s 107ms/step - loss: 3.6739 - acc: 0.2446 - val_loss: 3.6794 - val_acc: 0.2571\n",
      "Epoch 11/100\n",
      "131/131 [==============================] - 13s 102ms/step - loss: 3.6620 - acc: 0.2493 - val_loss: 3.6696 - val_acc: 0.2571\n",
      "Epoch 12/100\n",
      "131/131 [==============================] - 14s 110ms/step - loss: 3.6521 - acc: 0.2517 - val_loss: 3.6606 - val_acc: 0.2571\n",
      "Epoch 13/100\n",
      "131/131 [==============================] - 14s 110ms/step - loss: 3.6434 - acc: 0.2521 - val_loss: 3.6531 - val_acc: 0.2571\n",
      "Epoch 14/100\n",
      "131/131 [==============================] - 14s 108ms/step - loss: 3.6360 - acc: 0.2522 - val_loss: 3.6470 - val_acc: 0.2571\n",
      "Epoch 15/100\n",
      "131/131 [==============================] - 15s 112ms/step - loss: 3.6296 - acc: 0.2525 - val_loss: 3.6414 - val_acc: 0.2571\n",
      "Epoch 16/100\n",
      "131/131 [==============================] - 15s 111ms/step - loss: 3.6239 - acc: 0.2528 - val_loss: 3.6365 - val_acc: 0.2571\n",
      "Epoch 17/100\n",
      "131/131 [==============================] - 15s 111ms/step - loss: 3.6190 - acc: 0.2529 - val_loss: 3.6323 - val_acc: 0.2571\n",
      "Epoch 18/100\n",
      "131/131 [==============================] - 14s 109ms/step - loss: 3.6146 - acc: 0.2531 - val_loss: 3.6286 - val_acc: 0.2571\n",
      "Epoch 19/100\n",
      "131/131 [==============================] - 15s 114ms/step - loss: 3.6107 - acc: 0.2534 - val_loss: 3.6254 - val_acc: 0.2571\n",
      "Epoch 20/100\n",
      "131/131 [==============================] - 15s 114ms/step - loss: 3.6071 - acc: 0.2534 - val_loss: 3.6225 - val_acc: 0.2571\n",
      "Epoch 21/100\n",
      "131/131 [==============================] - 15s 111ms/step - loss: 3.6038 - acc: 0.2536 - val_loss: 3.6197 - val_acc: 0.2571\n",
      "Epoch 22/100\n",
      "131/131 [==============================] - 15s 112ms/step - loss: 3.6009 - acc: 0.2537 - val_loss: 3.6176 - val_acc: 0.2571\n",
      "Epoch 23/100\n",
      "131/131 [==============================] - 15s 112ms/step - loss: 3.5983 - acc: 0.2541 - val_loss: 3.6158 - val_acc: 0.2571\n",
      "Epoch 24/100\n",
      "131/131 [==============================] - 15s 113ms/step - loss: 3.5958 - acc: 0.2542 - val_loss: 3.6145 - val_acc: 0.2571\n",
      "Epoch 25/100\n",
      "131/131 [==============================] - 14s 109ms/step - loss: 3.5930 - acc: 0.2546 - val_loss: 3.6133 - val_acc: 0.2571\n",
      "Epoch 26/100\n",
      "131/131 [==============================] - 15s 112ms/step - loss: 3.5905 - acc: 0.2551 - val_loss: 3.6108 - val_acc: 0.2571\n",
      "Epoch 27/100\n",
      "131/131 [==============================] - 15s 113ms/step - loss: 3.5880 - acc: 0.2552 - val_loss: 3.6077 - val_acc: 0.2571\n",
      "Epoch 28/100\n",
      "131/131 [==============================] - 15s 112ms/step - loss: 3.5856 - acc: 0.2555 - val_loss: 3.6066 - val_acc: 0.2601\n",
      "Epoch 29/100\n",
      "131/131 [==============================] - 14s 109ms/step - loss: 3.5835 - acc: 0.2557 - val_loss: 3.6047 - val_acc: 0.2601\n",
      "Epoch 30/100\n",
      "131/131 [==============================] - 15s 114ms/step - loss: 3.5812 - acc: 0.2563 - val_loss: 3.6021 - val_acc: 0.2571\n",
      "Epoch 31/100\n",
      "131/131 [==============================] - 14s 109ms/step - loss: 3.5792 - acc: 0.2568 - val_loss: 3.6011 - val_acc: 0.2601\n",
      "Epoch 32/100\n",
      "131/131 [==============================] - 14s 110ms/step - loss: 3.5771 - acc: 0.2573 - val_loss: 3.5999 - val_acc: 0.2601\n",
      "Epoch 33/100\n",
      "131/131 [==============================] - 15s 112ms/step - loss: 3.5749 - acc: 0.2576 - val_loss: 3.5979 - val_acc: 0.2601\n",
      "Epoch 34/100\n",
      "131/131 [==============================] - 14s 105ms/step - loss: 3.5727 - acc: 0.2578 - val_loss: 3.5969 - val_acc: 0.2601\n",
      "Epoch 35/100\n",
      "131/131 [==============================] - 15s 116ms/step - loss: 3.5707 - acc: 0.2580 - val_loss: 3.5946 - val_acc: 0.2623\n",
      "Epoch 36/100\n",
      "131/131 [==============================] - 15s 111ms/step - loss: 3.5687 - acc: 0.2584 - val_loss: 3.5925 - val_acc: 0.2623\n",
      "Epoch 37/100\n",
      "131/131 [==============================] - 13s 101ms/step - loss: 3.5667 - acc: 0.2583 - val_loss: 3.5910 - val_acc: 0.2623\n",
      "Epoch 38/100\n",
      "131/131 [==============================] - 15s 113ms/step - loss: 3.5650 - acc: 0.2587 - val_loss: 3.5898 - val_acc: 0.2623\n",
      "Epoch 39/100\n",
      "131/131 [==============================] - 14s 109ms/step - loss: 3.5633 - acc: 0.2588 - val_loss: 3.5883 - val_acc: 0.2623\n",
      "Epoch 40/100\n",
      "131/131 [==============================] - 14s 109ms/step - loss: 3.5618 - acc: 0.2590 - val_loss: 3.5872 - val_acc: 0.2623\n",
      "Epoch 41/100\n",
      "131/131 [==============================] - 12s 95ms/step - loss: 3.5602 - acc: 0.2592 - val_loss: 3.5860 - val_acc: 0.2623\n",
      "Epoch 42/100\n",
      "131/131 [==============================] - 13s 102ms/step - loss: 3.5586 - acc: 0.2596 - val_loss: 3.5848 - val_acc: 0.2623\n",
      "Epoch 43/100\n",
      "131/131 [==============================] - 13s 101ms/step - loss: 3.5571 - acc: 0.2594 - val_loss: 3.5837 - val_acc: 0.2623\n",
      "Epoch 44/100\n",
      "131/131 [==============================] - 14s 105ms/step - loss: 3.5555 - acc: 0.2595 - val_loss: 3.5828 - val_acc: 0.2623\n",
      "Epoch 45/100\n",
      "131/131 [==============================] - 13s 99ms/step - loss: 3.5542 - acc: 0.2596 - val_loss: 3.5819 - val_acc: 0.2623\n",
      "Epoch 46/100\n",
      "131/131 [==============================] - 13s 101ms/step - loss: 3.5528 - acc: 0.2598 - val_loss: 3.5811 - val_acc: 0.2623\n",
      "Epoch 47/100\n",
      "131/131 [==============================] - 13s 96ms/step - loss: 3.5514 - acc: 0.2599 - val_loss: 3.5798 - val_acc: 0.2623\n",
      "Epoch 48/100\n",
      "131/131 [==============================] - 12s 94ms/step - loss: 3.5501 - acc: 0.2600 - val_loss: 3.5791 - val_acc: 0.2623\n",
      "Epoch 49/100\n",
      "131/131 [==============================] - 12s 92ms/step - loss: 3.5488 - acc: 0.2602 - val_loss: 3.5783 - val_acc: 0.2623\n",
      "Epoch 50/100\n",
      "131/131 [==============================] - 13s 102ms/step - loss: 3.5476 - acc: 0.2601 - val_loss: 3.5775 - val_acc: 0.2623\n",
      "Epoch 51/100\n",
      "131/131 [==============================] - 13s 97ms/step - loss: 3.5462 - acc: 0.2603 - val_loss: 3.5770 - val_acc: 0.2623\n",
      "Epoch 52/100\n",
      "131/131 [==============================] - 13s 99ms/step - loss: 3.5451 - acc: 0.2604 - val_loss: 3.5762 - val_acc: 0.2623\n",
      "Epoch 53/100\n",
      "131/131 [==============================] - 13s 97ms/step - loss: 3.5438 - acc: 0.2603 - val_loss: 3.5752 - val_acc: 0.2623\n",
      "Epoch 54/100\n",
      "131/131 [==============================] - 14s 104ms/step - loss: 3.5426 - acc: 0.2603 - val_loss: 3.5744 - val_acc: 0.2623\n",
      "Epoch 55/100\n",
      "131/131 [==============================] - 14s 107ms/step - loss: 3.5416 - acc: 0.2605 - val_loss: 3.5737 - val_acc: 0.2623\n",
      "Epoch 56/100\n",
      "131/131 [==============================] - 14s 108ms/step - loss: 3.5404 - acc: 0.2606 - val_loss: 3.5728 - val_acc: 0.2623\n",
      "Epoch 57/100\n",
      "131/131 [==============================] - 14s 110ms/step - loss: 3.5393 - acc: 0.2607 - val_loss: 3.5724 - val_acc: 0.2623\n",
      "Epoch 58/100\n",
      "131/131 [==============================] - 14s 109ms/step - loss: 3.5385 - acc: 0.2607 - val_loss: 3.5716 - val_acc: 0.2623\n",
      "Epoch 59/100\n",
      "131/131 [==============================] - 14s 109ms/step - loss: 3.5373 - acc: 0.2609 - val_loss: 3.5715 - val_acc: 0.2623\n",
      "Epoch 60/100\n"
     ]
    },
    {
     "name": "stdout",
     "output_type": "stream",
     "text": [
      "131/131 [==============================] - 14s 107ms/step - loss: 3.5364 - acc: 0.2609 - val_loss: 3.5710 - val_acc: 0.2623\n",
      "Epoch 61/100\n",
      "131/131 [==============================] - 14s 104ms/step - loss: 3.5354 - acc: 0.2610 - val_loss: 3.5698 - val_acc: 0.2623\n",
      "Epoch 62/100\n",
      "131/131 [==============================] - 13s 102ms/step - loss: 3.5344 - acc: 0.2609 - val_loss: 3.5693 - val_acc: 0.2623\n",
      "Epoch 63/100\n",
      "131/131 [==============================] - 14s 110ms/step - loss: 3.5335 - acc: 0.2610 - val_loss: 3.5690 - val_acc: 0.2623\n",
      "Epoch 64/100\n",
      "131/131 [==============================] - 14s 108ms/step - loss: 3.5326 - acc: 0.2610 - val_loss: 3.5683 - val_acc: 0.2623\n",
      "Epoch 65/100\n",
      "131/131 [==============================] - 14s 105ms/step - loss: 3.5319 - acc: 0.2611 - val_loss: 3.5680 - val_acc: 0.2623\n",
      "Epoch 66/100\n",
      "131/131 [==============================] - 14s 110ms/step - loss: 3.5309 - acc: 0.2611 - val_loss: 3.5674 - val_acc: 0.2623\n",
      "Epoch 67/100\n",
      "131/131 [==============================] - 13s 96ms/step - loss: 3.5301 - acc: 0.2612 - val_loss: 3.5670 - val_acc: 0.2623\n",
      "Epoch 68/100\n",
      "131/131 [==============================] - 14s 108ms/step - loss: 3.5293 - acc: 0.2610 - val_loss: 3.5667 - val_acc: 0.2623\n",
      "Epoch 69/100\n",
      "131/131 [==============================] - 14s 109ms/step - loss: 3.5285 - acc: 0.2611 - val_loss: 3.5662 - val_acc: 0.2623\n",
      "Epoch 70/100\n",
      "131/131 [==============================] - 14s 107ms/step - loss: 3.5278 - acc: 0.2611 - val_loss: 3.5659 - val_acc: 0.2623\n",
      "Epoch 71/100\n",
      "131/131 [==============================] - 15s 113ms/step - loss: 3.5269 - acc: 0.2612 - val_loss: 3.5657 - val_acc: 0.2623\n",
      "Epoch 72/100\n",
      "131/131 [==============================] - 13s 100ms/step - loss: 3.5263 - acc: 0.2613 - val_loss: 3.5654 - val_acc: 0.2623\n",
      "Epoch 73/100\n",
      "131/131 [==============================] - 14s 106ms/step - loss: 3.5256 - acc: 0.2610 - val_loss: 3.5650 - val_acc: 0.2623\n",
      "Epoch 74/100\n",
      "131/131 [==============================] - 14s 111ms/step - loss: 3.5249 - acc: 0.2611 - val_loss: 3.5648 - val_acc: 0.2623\n",
      "Epoch 75/100\n",
      "131/131 [==============================] - 14s 107ms/step - loss: 3.5243 - acc: 0.2612 - val_loss: 3.5644 - val_acc: 0.2623\n",
      "Epoch 76/100\n",
      "131/131 [==============================] - 13s 99ms/step - loss: 3.5236 - acc: 0.2611 - val_loss: 3.5643 - val_acc: 0.2623\n",
      "Epoch 77/100\n",
      "131/131 [==============================] - 14s 108ms/step - loss: 3.5230 - acc: 0.2612 - val_loss: 3.5638 - val_acc: 0.2623\n",
      "Epoch 78/100\n",
      "131/131 [==============================] - 14s 110ms/step - loss: 3.5224 - acc: 0.2611 - val_loss: 3.5639 - val_acc: 0.2623\n",
      "Epoch 79/100\n",
      "131/131 [==============================] - 13s 99ms/step - loss: 3.5218 - acc: 0.2611 - val_loss: 3.5635 - val_acc: 0.2623\n",
      "Epoch 80/100\n",
      "131/131 [==============================] - 12s 95ms/step - loss: 3.5212 - acc: 0.2610 - val_loss: 3.5634 - val_acc: 0.2623\n",
      "Epoch 81/100\n",
      "131/131 [==============================] - 13s 102ms/step - loss: 3.5207 - acc: 0.2611 - val_loss: 3.5631 - val_acc: 0.2623\n",
      "Epoch 82/100\n",
      "131/131 [==============================] - 15s 111ms/step - loss: 3.5200 - acc: 0.2612 - val_loss: 3.5629 - val_acc: 0.2623\n",
      "Epoch 83/100\n",
      "131/131 [==============================] - 14s 106ms/step - loss: 3.5195 - acc: 0.2612 - val_loss: 3.5626 - val_acc: 0.2623\n",
      "Epoch 84/100\n",
      "131/131 [==============================] - 12s 94ms/step - loss: 3.5189 - acc: 0.2611 - val_loss: 3.5626 - val_acc: 0.2623\n",
      "Epoch 85/100\n",
      "131/131 [==============================] - 12s 89ms/step - loss: 3.5185 - acc: 0.2611 - val_loss: 3.5623 - val_acc: 0.2623\n",
      "Epoch 86/100\n",
      "131/131 [==============================] - 13s 100ms/step - loss: 3.5180 - acc: 0.2611 - val_loss: 3.5624 - val_acc: 0.2623\n",
      "Epoch 87/100\n",
      "131/131 [==============================] - 15s 113ms/step - loss: 3.5174 - acc: 0.2613 - val_loss: 3.5622 - val_acc: 0.2623\n",
      "Epoch 88/100\n",
      "131/131 [==============================] - 16s 121ms/step - loss: 3.5170 - acc: 0.2611 - val_loss: 3.5622 - val_acc: 0.2623\n",
      "Epoch 89/100\n",
      "131/131 [==============================] - 16s 120ms/step - loss: 3.5165 - acc: 0.2613 - val_loss: 3.5619 - val_acc: 0.2623\n",
      "Epoch 90/100\n",
      "131/131 [==============================] - 16s 122ms/step - loss: 3.5160 - acc: 0.2611 - val_loss: 3.5618 - val_acc: 0.2623\n",
      "Epoch 91/100\n",
      "131/131 [==============================] - 16s 125ms/step - loss: 3.5156 - acc: 0.2612 - val_loss: 3.5617 - val_acc: 0.2623\n",
      "Epoch 92/100\n",
      "131/131 [==============================] - 15s 114ms/step - loss: 3.5152 - acc: 0.2612 - val_loss: 3.5616 - val_acc: 0.2623\n",
      "Epoch 93/100\n",
      "131/131 [==============================] - 15s 113ms/step - loss: 3.5146 - acc: 0.2613 - val_loss: 3.5615 - val_acc: 0.2623\n",
      "Epoch 94/100\n",
      "131/131 [==============================] - 15s 114ms/step - loss: 3.5142 - acc: 0.2611 - val_loss: 3.5617 - val_acc: 0.2623\n",
      "Epoch 95/100\n",
      "131/131 [==============================] - 17s 127ms/step - loss: 3.5138 - acc: 0.2612 - val_loss: 3.5614 - val_acc: 0.2623\n",
      "Epoch 96/100\n",
      "131/131 [==============================] - 16s 120ms/step - loss: 3.5134 - acc: 0.2611 - val_loss: 3.5615 - val_acc: 0.2623\n",
      "Epoch 97/100\n",
      "131/131 [==============================] - 16s 121ms/step - loss: 3.5130 - acc: 0.2613 - val_loss: 3.5614 - val_acc: 0.2623\n",
      "Epoch 98/100\n",
      "131/131 [==============================] - 16s 120ms/step - loss: 3.5126 - acc: 0.2612 - val_loss: 3.5615 - val_acc: 0.2623\n",
      "Epoch 99/100\n",
      "131/131 [==============================] - 14s 111ms/step - loss: 3.5123 - acc: 0.2611 - val_loss: 3.5615 - val_acc: 0.2623\n",
      "Epoch 100/100\n",
      "131/131 [==============================] - 15s 115ms/step - loss: 3.5119 - acc: 0.2611 - val_loss: 3.5611 - val_acc: 0.2623\n"
     ]
    }
   ],
   "source": [
    "history = summarizer.fit(Xtrain, Ytrain, Xtest, Ytest, epochs=100, batch_size=128, model_dir_path=model_dir_path)"
   ]
  },
  {
   "cell_type": "code",
   "execution_count": 11,
   "metadata": {},
   "outputs": [
    {
     "data": {
      "image/png": "[encoded data removed]",
      "text/plain": [
       "<Figure size 432x288 with 1 Axes>"
      ]
     },
     "metadata": {},
     "output_type": "display_data"
    }
   ],
   "source": [
    "import matplotlib.pyplot as plt\n",
    "# summarize history for accuracy\n",
    "plt.plot(history.history['acc'])\n",
    "plt.plot(history.history['val_acc'])\n",
    "plt.title('model accuracy')\n",
    "plt.ylabel('accuracy')\n",
    "plt.xlabel('epoch')\n",
    "plt.legend(['train', 'test'], loc='upper left')\n",
    "plt.savefig('oneshot_acc')"
   ]
  },
  {
   "cell_type": "code",
   "execution_count": 12,
   "metadata": {},
   "outputs": [
    {
     "data": {
      "image/png": "[encoded data removed]",
      "text/plain": [
       "<Figure size 432x288 with 1 Axes>"
      ]
     },
     "metadata": {},
     "output_type": "display_data"
    }
   ],
   "source": [
    "# summarize history for loss\n",
    "plt.plot(history.history['loss'])\n",
    "plt.plot(history.history['val_loss'])\n",
    "plt.title('model loss')\n",
    "plt.ylabel('loss')\n",
    "plt.xlabel('epoch')\n",
    "plt.legend(['train', 'test'], loc='upper left')\n",
    "plt.savefig('oneshot_loss')\n",
    "#plt.show()"
   ]
  },
  {
   "cell_type": "code",
   "execution_count": 11,
   "metadata": {},
   "outputs": [
    {
     "data": {
      "image/png": "[encoded data removed]",
      "text/plain": [
       "<Figure size 432x288 with 1 Axes>"
      ]
     },
     "metadata": {},
     "output_type": "display_data"
    }
   ],
   "source": [
    "history_plot_file_path = report_dir_path + '/' + OneShotRNN.model_name + '-history.png'\n",
    "if LOAD_EXISTING_WEIGHTS:\n",
    "    history_plot_file_path = report_dir_path + '/' + OneShotRNN.model_name + '-history-v' + str(summarizer.version) + '.png'\n",
    "plot_and_save_history(history, summarizer.model_name, history_plot_file_path, metrics={'loss', 'acc'})"
   ]
  },
  {
   "cell_type": "code",
   "execution_count": null,
   "metadata": {},
   "outputs": [],
   "source": []
  }
 ],
 "metadata": {
  "kernelspec": {
   "display_name": "Python 3",
   "language": "python",
   "name": "python3"
  },
  "language_info": {
   "codemirror_mode": {
    "name": "ipython",
    "version": 3
   },
   "file_extension": ".py",
   "mimetype": "text/x-python",
   "name": "python",
   "nbconvert_exporter": "python",
   "pygments_lexer": "ipython3",
   "version": "3.6.4"
  }
 },
 "nbformat": 4,
 "nbformat_minor": 2
}
